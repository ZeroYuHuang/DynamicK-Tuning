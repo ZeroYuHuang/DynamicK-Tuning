{
 "cells": [
  {
   "cell_type": "markdown",
   "metadata": {},
   "source": [
    "# Analysis of the activation of the Llama model and its K-Neuron variants"
   ]
  },
  {
   "cell_type": "code",
   "execution_count": null,
   "metadata": {},
   "outputs": [],
   "source": [
    "import torch\n",
    "import random\n",
    "import torch.nn as nn\n",
    "from transformers import LlamaForCausalLM, AutoTokenizer\n",
    "from topk_models import TopKLlamaForCausalLM, TopKLlamaConfig\n",
    "from transformers.models.llama.modeling_llama import LlamaForCausalLM\n",
    "import matplotlib.pyplot as plt\n",
    "import torch.nn.functional as F\n",
    "import numpy as np\n",
    "\n",
    "# Configurations of this notobook\n",
    "MODEL_PATH = 'models/Llama-2-7b-hf'\n",
    "MODEL_TYPE = 'original'\n",
    "DATA_PATH = './data/alpaca/'\n",
    "N_SAMPLES = 20\n",
    "if MODEL_TYPE == 'original':\n",
    "    model = LlamaForCausalLM.from_pretrained(\"./models/Llama-2-7b-hf/\", device_map=\"auto\")\n",
    "else:\n",
    "    config = TopKLlamaConfig.from_json_file('7b_base_configs.json')\n",
    "    model = TopKLlamaForCausalLM.from_pretrained(\n",
    "        \"./models/Llama-2-7b-hf/\", \n",
    "        device_map=\"auto\",\n",
    "        config=config\n",
    "    )\n",
    "tokenizer = AutoTokenizer.from_pretrained(\"./models/Llama-2-7b-hf/\")\n",
    "model.eval()"
   ]
  },
  {
   "cell_type": "markdown",
   "metadata": {},
   "source": [
    "Sample some data points from the instruction-tuning data, e.g., Alpaca52K"
   ]
  },
  {
   "cell_type": "code",
   "execution_count": null,
   "metadata": {},
   "outputs": [],
   "source": [
    "import random\n",
    "from datasets import load_dataset\n",
    "data = load_dataset(DATA_PATH)['train']\n",
    "data_idx_sample = random.sample([_ for _ in range(len(data))], N_SAMPLES)\n",
    "data_samples = [data[i] for i in data_idx_sample]"
   ]
  },
  {
   "cell_type": "markdown",
   "metadata": {},
   "source": [
    "Register the forwardhook for recording activation"
   ]
  },
  {
   "cell_type": "code",
   "execution_count": null,
   "metadata": {},
   "outputs": [],
   "source": [
    "n_layer = 32\n",
    "hidden_inp = {\n",
    "    \"gate_proj\": [[] for _ in range(n_layer)], \"up_proj\": [[] for _ in range(n_layer)], \"down_proj\": [[] for _ in range(n_layer)]\n",
    "}\n",
    "hidden_out = {\n",
    "    \"gate_proj\": [[] for _ in range(n_layer)], \"up_proj\": [[] for _ in range(n_layer)], \"down_proj\": [[] for _ in range(n_layer)]\n",
    "}\n",
    "\n",
    "def forward_input_hook(name, layer_id):\n",
    "    def fn(module: nn.Module, inp, out):\n",
    "        hidden_inp[name][layer_id].append(inp)\n",
    "    return fn\n",
    "\n",
    "def forward_output_hook(name, layer_id):\n",
    "    def fn(module: nn.Module, input, output):\n",
    "        hidden_out[name][layer_id].append(inp)\n",
    "    return fn\n",
    "            \n",
    "for n, m in model.named_modules():\n",
    "    if len(n.split(\".\")) < 5:\n",
    "        continue\n",
    "    layer_id = int(n.split(\".\")[2])\n",
    "    name = n.split(\".\")[-1]\n",
    "    if \"LlamaMLP\" in n.split(\".\"):\n",
    "        m.register_forward_hook(forward_input_hook(name, layer_id))\n",
    "        m.register_forward_hook(forward_output_hook(name, layer_id)) "
   ]
  },
  {
   "cell_type": "code",
   "execution_count": null,
   "metadata": {},
   "outputs": [],
   "source": [
    "for d in tqdm(data_samples):\n",
    "    inp = prompt.format_map(d)\n",
    "    out = f\"{d['output']}{tokenizer.eos_token}\"\n",
    "    text = inp + out\n",
    "    # tokenize\n",
    "    input_ids = tokenizer(text, return_tensors='pt').input_ids # .to(device)\n",
    "    # forward\n",
    "    y = model(input_ids[:,:-1])"
   ]
  },
  {
   "cell_type": "markdown",
   "metadata": {},
   "source": [
    "## Analysis of the activation"
   ]
  },
  {
   "cell_type": "markdown",
   "metadata": {},
   "source": [
    "1. Q1: how many neurons are activated by an activation value that is larger than T?"
   ]
  },
  {
   "cell_type": "code",
   "execution_count": 4,
   "metadata": {},
   "outputs": [
    {
     "ename": "NameError",
     "evalue": "name 'n_layer' is not defined",
     "output_type": "error",
     "traceback": [
      "\u001b[0;31m---------------------------------------------------------------------------\u001b[0m",
      "\u001b[0;31mNameError\u001b[0m                                 Traceback (most recent call last)",
      "\u001b[1;32m/home/hkustadmin/huangzeyu/DynamicK-Tuning/analysis_activation.ipynb 单元格 10\u001b[0m line \u001b[0;36m7\n\u001b[1;32m      <a href='vscode-notebook-cell://ssh-remote%2B10.96.164.59/home/hkustadmin/huangzeyu/DynamicK-Tuning/analysis_activation.ipynb#X12sdnNjb2RlLXJlbW90ZQ%3D%3D?line=4'>5</a>\u001b[0m \u001b[39mfor\u001b[39;00m T \u001b[39min\u001b[39;00m T_lists:\n\u001b[1;32m      <a href='vscode-notebook-cell://ssh-remote%2B10.96.164.59/home/hkustadmin/huangzeyu/DynamicK-Tuning/analysis_activation.ipynb#X12sdnNjb2RlLXJlbW90ZQ%3D%3D?line=5'>6</a>\u001b[0m     gate_act_rate \u001b[39m=\u001b[39m []\n\u001b[0;32m----> <a href='vscode-notebook-cell://ssh-remote%2B10.96.164.59/home/hkustadmin/huangzeyu/DynamicK-Tuning/analysis_activation.ipynb#X12sdnNjb2RlLXJlbW90ZQ%3D%3D?line=6'>7</a>\u001b[0m     \u001b[39mfor\u001b[39;00m i \u001b[39min\u001b[39;00m \u001b[39mrange\u001b[39m(n_layer):\n\u001b[1;32m      <a href='vscode-notebook-cell://ssh-remote%2B10.96.164.59/home/hkustadmin/huangzeyu/DynamicK-Tuning/analysis_activation.ipynb#X12sdnNjb2RlLXJlbW90ZQ%3D%3D?line=7'>8</a>\u001b[0m         after_act \u001b[39m=\u001b[39m F\u001b[39m.\u001b[39msilu(gate_h[i][\u001b[39m0\u001b[39m])\u001b[39m.\u001b[39mdetach()\n\u001b[1;32m      <a href='vscode-notebook-cell://ssh-remote%2B10.96.164.59/home/hkustadmin/huangzeyu/DynamicK-Tuning/analysis_activation.ipynb#X12sdnNjb2RlLXJlbW90ZQ%3D%3D?line=8'>9</a>\u001b[0m         gate_act_rate\u001b[39m.\u001b[39mappend(torch\u001b[39m.\u001b[39msum(torch\u001b[39m.\u001b[39mabs(after_act) \u001b[39m>\u001b[39m T) \u001b[39m/\u001b[39m tot)\n",
      "\u001b[0;31mNameError\u001b[0m: name 'n_layer' is not defined"
     ]
    },
    {
     "data": {
      "image/png": "[encoded data removed]",
      "text/plain": [
       "<Figure size 1200x400 with 3 Axes>"
      ]
     },
     "metadata": {},
     "output_type": "display_data"
    },
    {
     "ename": "",
     "evalue": "",
     "output_type": "error",
     "traceback": [
      "\u001b[1;31m在当前单元格或上一个单元格中执行代码时 Kernel 崩溃。请查看单元格中的代码，以确定故障的可能原因。有关详细信息，请单击 <a href='https://aka.ms/vscodeJupyterKernelCrash'>此处</a>。有关更多详细信息，请查看 Jupyter <a href='command:jupyter.viewOutput'>log</a>。"
     ]
    }
   ],
   "source": [
    "import matplotlib.pyplot as plt\n",
    "T_lists = [0.1, 0.01, 0.001]\n",
    "tot = gate_h[0][0].shape[0] *  gate_h[0][0].shape[1] *  gate_h[0][0].shape[2] \n",
    "fig, axes = plt.subplots(1, len(T_lists), figsize=(12, 4))\n",
    "for n, T in enumerate(T_lists):\n",
    "    gate_act_rate = []\n",
    "    for i in range(n_layer):\n",
    "        after_act = F.silu(gate_h[i][0]).detach()\n",
    "        gate_act_rate.append(torch.sum(torch.abs(after_act) > T) / tot)\n",
    "    axes[n].bar([_ for _ in range(n_layer)], gate_act_rate)\n",
    "    print(np.mean(gate_act_rate))\n",
    "    print(min(gate_act_rate))\n",
    "    print(max(gate_act_rate))"
   ]
  },
  {
   "cell_type": "markdown",
   "metadata": {},
   "source": [
    "2. 对激活值进行归一化（softmax, 或者l1 normalization）之后，有多少的贡献度会大于给定的阈值T"
   ]
  },
  {
   "cell_type": "code",
   "execution_count": null,
   "metadata": {},
   "outputs": [],
   "source": [
    "gate_softmax_rate = []\n",
    "norm = 'softmax'\n",
    "# norm = 'l1'\n",
    "T = 0.001\n",
    "tot = gate_h[0][0].shape[0] *  gate_h[0][0].shape[1] *  gate_h[0][0].shape[2]\n",
    "for i in range(n_layer):\n",
    "    abs_score = torch.abs(F.silu(gate_h[i][0]))\n",
    "    norm_gate_h = F.softmax(abs_score, dim=-1) if norm == \"softmax\" else F.normalize(abs_score, dim=-1, p=1)\n",
    "    gate_softmax_rate.append(\n",
    "        torch.sum(norm_gate_h > T) / tot\n",
    "    )\n",
    "plt.bar([_ for _ in range(n_layer)], gate_softmax_rate)\n",
    "print(np.mean(gate_softmax_rate))\n",
    "print(min(gate_softmax_rate))\n",
    "print(max(gate_softmax_rate))"
   ]
  },
  {
   "cell_type": "markdown",
   "metadata": {},
   "source": [
    "3. 给定一个阈值T（比如说90%）,最少选取多少neuron使得这些neuron的贡献度大于这个阈值"
   ]
  },
  {
   "cell_type": "code",
   "execution_count": null,
   "metadata": {},
   "outputs": [],
   "source": [
    "norm = 'l1'\n",
    "T = 0.8\n",
    "cumsum_rate = []\n",
    "for i in range(n_layer):\n",
    "    selected_score = torch.abs(F.silu(gate_h[i][0]))  # [1, seq_len, neuron_num]\n",
    "    normed_selected_score = F.softmax(selected_score, dim=-1) if norm == 'softmax' else F.normalize(selected_score, dim=-1, p=1)\n",
    "    sorted_norm_values, _ = torch.sort(normed_selected_score, dim=-1, descending=True)\n",
    "    cumsum_sorted_norm_values = torch.cumsum(sorted_norm_values, dim=-1)\n",
    "    cumsum_rate.append(torch.sum(cumsum_sorted_norm_values < T) / tot)\n",
    "plt.bar([_ for _ in range(n_layer)], cumsum_rate)\n",
    "print(np.mean(cumsum_rate))\n",
    "print(min(cumsum_rate))\n",
    "print(max(cumsum_rate))"
   ]
  },
  {
   "cell_type": "markdown",
   "metadata": {},
   "source": [
    "## 对于intermediate_abs进行分析\n"
   ]
  },
  {
   "cell_type": "markdown",
   "metadata": {},
   "source": [
    "1. 每一层有多少激活值的绝对值大于某一个阈值T"
   ]
  },
  {
   "cell_type": "code",
   "execution_count": null,
   "metadata": {},
   "outputs": [],
   "source": [
    "T= 0.01\n",
    "inter_abs_rate = []\n",
    "tot = down_h[0][0].shape[0] *  down_h[0][0].shape[1] *  down_h[0][0].shape[2] \n",
    "for i in range(n_layer):\n",
    "    score = torch.abs(down_h[i][0]).detach()\n",
    "    inter_abs_rate.append(torch.sum(score > T) / tot)\n",
    "plt.bar([_ for _ in range(n_layer)], inter_abs_rate)\n",
    "print(np.mean(inter_abs_rate))\n",
    "print(min(inter_abs_rate))\n",
    "print(max(inter_abs_rate))"
   ]
  },
  {
   "cell_type": "markdown",
   "metadata": {},
   "source": [
    "2. 对激活值进行归一化（softmax, 或者l1 normalization）之后，有多少的贡献度会大于给定的阈值T"
   ]
  },
  {
   "cell_type": "code",
   "execution_count": null,
   "metadata": {},
   "outputs": [],
   "source": [
    "inter_abs_softmax_rate = []\n",
    "norm = 'softmax'\n",
    "# norm = 'l1'\n",
    "T = 0.001\n",
    "for i in range(n_layer):\n",
    "    abs_score = torch.abs(down_h[i][0])\n",
    "    norm_score = F.softmax(abs_score, dim=-1) if norm == \"softmax\" else F.normalize(abs_score, dim=-1, p=1)\n",
    "    inter_abs_softmax_rate.append(\n",
    "        torch.sum(norm_score > T) / tot\n",
    "    )\n",
    "plt.bar([_ for _ in range(n_layer)], inter_abs_softmax_rate)\n",
    "print(np.mean(inter_abs_softmax_rate))\n",
    "print(min(inter_abs_softmax_rate))\n",
    "print(max(inter_abs_softmax_rate))"
   ]
  },
  {
   "cell_type": "markdown",
   "metadata": {},
   "source": [
    "3. 给定一个阈值T（比如说90%）,最少选取多少neuron使得这些neuron的贡献度大于这个阈值"
   ]
  },
  {
   "cell_type": "code",
   "execution_count": null,
   "metadata": {},
   "outputs": [],
   "source": [
    "norm = 'l1'\n",
    "T = 0.8\n",
    "cumsum_rate = []\n",
    "for i in range(n_layer):\n",
    "    selected_score = torch.abs(down_h[i][0])  # [1, seq_len, neuron_num]\n",
    "    normed_selected_score = F.softmax(selected_score, dim=-1) if norm == 'softmax' else F.normalize(selected_score, dim=-1, p=1)\n",
    "    sorted_norm_values, _ = torch.sort(normed_selected_score, dim=-1, descending=True)\n",
    "    cumsum_sorted_norm_values = torch.cumsum(sorted_norm_values, dim=-1)\n",
    "    cumsum_rate.append(torch.sum(cumsum_sorted_norm_values < T) / tot)\n",
    "plt.bar([_ for _ in range(n_layer)], cumsum_rate)\n",
    "print(np.mean(cumsum_rate))\n",
    "print(min(cumsum_rate))\n",
    "print(max(cumsum_rate))"
   ]
  }
 ],
 "metadata": {
  "kernelspec": {
   "display_name": "emo",
   "language": "python",
   "name": "python3"
  },
  "language_info": {
   "codemirror_mode": {
    "name": "ipython",
    "version": 3
   },
   "file_extension": ".py",
   "mimetype": "text/x-python",
   "name": "python",
   "nbconvert_exporter": "python",
   "pygments_lexer": "ipython3",
   "version": "3.9.18"
  }
 },
 "nbformat": 4,
 "nbformat_minor": 2
}
